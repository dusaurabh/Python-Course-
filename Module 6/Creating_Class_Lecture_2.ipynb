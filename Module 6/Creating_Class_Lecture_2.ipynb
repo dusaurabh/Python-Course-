{
 "cells": [
  {
   "cell_type": "markdown",
   "metadata": {},
   "source": [
    "# How to define the Class in Python"
   ]
  },
  {
   "cell_type": "markdown",
   "metadata": {},
   "source": [
    "* **Init** function is used to define the atributes \n",
    "\n",
    "* Whenever you wants to define the arrtibutes or properties of the any class you need to use the **init** function \n",
    "\n",
    "* The significance of this **init** function is that it is actually use initialize the objects when you create objects of those class"
   ]
  },
  {
   "cell_type": "markdown",
   "metadata": {},
   "source": [
    "### What is the use of Self in Python\n",
    "* With this keyword, you can access the attributes and methods of the class in python."
   ]
  },
  {
   "cell_type": "code",
   "execution_count": 1,
   "metadata": {},
   "outputs": [],
   "source": [
    "class Students:\n",
    "    def __init__(self,name, contact, age, roll_no, branch):# we have created the init function to define the arrtibutes\n",
    "        self.name = name\n",
    "        self.contact = contact\n",
    "        self.age = age\n",
    "        self.roll_no = roll_no\n",
    "        self.branch = branch\n",
    "        \n",
    "        \n",
    "    def take_student_details(self):\n",
    "        self.name = input('Enter your name :-')\n",
    "        self.contact = input('Enter your contact number :- ')\n",
    "        self.age = input('Enter your Age :- ')\n",
    "        self.roll_no = input('Enter your Roll Number :- ')\n",
    "        self.branch = input('Enter your Branch Name :- ')\n",
    "        \n",
    "    def print_student_details(self):\n",
    "        print('The name of student is '+ self.name + '\\n' + 'The contact Number is ' + self.contact +'\\n' + 'with Age '+ self.age + '\\n' + 'has Roll Number ' + self.roll_no + '\\n' + 'Branch is  ' + self.branch)"
   ]
  },
  {
   "cell_type": "code",
   "execution_count": 2,
   "metadata": {},
   "outputs": [],
   "source": [
    "\"\"\" Saurabh here is the Object of the Class  \"\"\"\n",
    "Saurabh  = Students(\"S\",8,1,2,\"IT\")"
   ]
  },
  {
   "cell_type": "code",
   "execution_count": 3,
   "metadata": {},
   "outputs": [
    {
     "name": "stdout",
     "output_type": "stream",
     "text": [
      "Enter your name :-Saurabh\n",
      "Enter your contact number :- 123456789\n",
      "Enter your Age :- 12\n",
      "Enter your Roll Number :- 1\n",
      "Enter your Branch Name :- IT\n"
     ]
    }
   ],
   "source": [
    "Saurabh.take_student_details()"
   ]
  },
  {
   "cell_type": "code",
   "execution_count": 4,
   "metadata": {},
   "outputs": [
    {
     "name": "stdout",
     "output_type": "stream",
     "text": [
      "The name of student is Saurabh\n",
      "The contact Number is 123456789\n",
      "with Age 12\n",
      "has Roll Number 1\n",
      "Branch is  IT\n"
     ]
    }
   ],
   "source": [
    "Saurabh.print_student_details()"
   ]
  },
  {
   "cell_type": "code",
   "execution_count": null,
   "metadata": {},
   "outputs": [],
   "source": []
  }
 ],
 "metadata": {
  "kernelspec": {
   "display_name": "Python 3",
   "language": "python",
   "name": "python3"
  },
  "language_info": {
   "codemirror_mode": {
    "name": "ipython",
    "version": 3
   },
   "file_extension": ".py",
   "mimetype": "text/x-python",
   "name": "python",
   "nbconvert_exporter": "python",
   "pygments_lexer": "ipython3",
   "version": "3.8.3"
  }
 },
 "nbformat": 4,
 "nbformat_minor": 4
}
