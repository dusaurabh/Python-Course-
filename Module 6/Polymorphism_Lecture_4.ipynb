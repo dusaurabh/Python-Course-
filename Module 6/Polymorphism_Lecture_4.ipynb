{
 "cells": [
  {
   "cell_type": "markdown",
   "metadata": {},
   "source": [
    "# Polymorphism in Python"
   ]
  },
  {
   "cell_type": "markdown",
   "metadata": {},
   "source": [
    "It is one such OOP methodology where one task can be performed in several different ways.\n",
    "\n",
    "Polymorphism is of 2 types :-\n",
    "1. Compile-time Polymorphism\n",
    "2. Run-time Polymorphism\n"
   ]
  },
  {
   "cell_type": "markdown",
   "metadata": {},
   "source": [
    "### 1. Compile-time Polymorphism\n",
    "\n",
    "One common example of compile-time polymorphism is “method overloading”\n",
    "\n",
    "A compile-time polymorphism also called as static polymorphism which gets resolved during the compilation time of the program."
   ]
  },
  {
   "cell_type": "code",
   "execution_count": 11,
   "metadata": {},
   "outputs": [],
   "source": [
    "class Office():\n",
    "    def __init__(self,name,place):\n",
    "        self.name = name\n",
    "        self.place = place\n",
    "        \n",
    "    def info(self):\n",
    "        self.name = input(\"Enter your Name :- \")\n",
    "        self.place = input(\"Enter your Current Place :- \")\n",
    "        print(\"Hello, I am \" + self.name + \" I am at \" + self.place )\n"
   ]
  },
  {
   "cell_type": "code",
   "execution_count": 12,
   "metadata": {},
   "outputs": [],
   "source": [
    "class Home():\n",
    "    def __init__(self,name,place):\n",
    "        self.name = name\n",
    "        self.place = place\n",
    "        \n",
    "    def info(self):\n",
    "        self.name = input(\"Enter your Name :- \")\n",
    "        self.place = input(\"Enter your Current Place :- \")        \n",
    "        print(\"Hello, I am \" + self.name + \" I am at \" + self.place)"
   ]
  },
  {
   "cell_type": "code",
   "execution_count": 14,
   "metadata": {},
   "outputs": [],
   "source": [
    "Office1 = Office(\"S\",\"O\")\n",
    "Home1 = Home(\"S\",\"O\")"
   ]
  },
  {
   "cell_type": "code",
   "execution_count": 15,
   "metadata": {},
   "outputs": [
    {
     "name": "stdout",
     "output_type": "stream",
     "text": [
      "Enter your Name :- Saurabh\n",
      "Enter your Current Place :- Office\n",
      "Hello, I am Saurabh I am at Office\n"
     ]
    }
   ],
   "source": [
    "Office1.info()"
   ]
  },
  {
   "cell_type": "code",
   "execution_count": 16,
   "metadata": {},
   "outputs": [
    {
     "name": "stdout",
     "output_type": "stream",
     "text": [
      "Enter your Name :- Saurabh\n",
      "Enter your Current Place :- Home\n",
      "Hello, I am Saurabh I am at Home\n"
     ]
    }
   ],
   "source": [
    "Home1.info()"
   ]
  },
  {
   "cell_type": "markdown",
   "metadata": {},
   "source": [
    "This type of example is called method overloading which allows a class to have more than one method under the same name."
   ]
  },
  {
   "cell_type": "code",
   "execution_count": null,
   "metadata": {},
   "outputs": [],
   "source": []
  },
  {
   "cell_type": "code",
   "execution_count": null,
   "metadata": {},
   "outputs": [],
   "source": []
  },
  {
   "cell_type": "markdown",
   "metadata": {},
   "source": [
    "### Run-time Polymorphism \n",
    "\n",
    "One common example of Run-time polymorphism is “method overriding”.\n",
    "\n",
    "A run-time Polymorphism is also, called as dynamic polymorphism where it gets resolved into the run time."
   ]
  },
  {
   "cell_type": "code",
   "execution_count": 17,
   "metadata": {},
   "outputs": [
    {
     "name": "stdout",
     "output_type": "stream",
     "text": [
      "Fail\n"
     ]
    }
   ],
   "source": [
    "class Student():\n",
    "\n",
    "    def pass_or_fail(self):\n",
    "        print(\"I am pass\")\n",
    "    \n",
    "\n",
    "    \n",
    "class Student1(Student):\n",
    " \n",
    "    def pass_or_fail(self):# Run-time polymorphism\n",
    "        print(\"Fail\")\n",
    "        \n",
    "\n",
    "        \n",
    "c = Student1()\n",
    "c.pass_or_fail()\n"
   ]
  },
  {
   "cell_type": "code",
   "execution_count": 26,
   "metadata": {},
   "outputs": [],
   "source": []
  },
  {
   "cell_type": "code",
   "execution_count": 27,
   "metadata": {},
   "outputs": [],
   "source": []
  },
  {
   "cell_type": "code",
   "execution_count": null,
   "metadata": {},
   "outputs": [],
   "source": []
  }
 ],
 "metadata": {
  "kernelspec": {
   "display_name": "Python 3",
   "language": "python",
   "name": "python3"
  },
  "language_info": {
   "codemirror_mode": {
    "name": "ipython",
    "version": 3
   },
   "file_extension": ".py",
   "mimetype": "text/x-python",
   "name": "python",
   "nbconvert_exporter": "python",
   "pygments_lexer": "ipython3",
   "version": "3.8.3"
  }
 },
 "nbformat": 4,
 "nbformat_minor": 4
}
