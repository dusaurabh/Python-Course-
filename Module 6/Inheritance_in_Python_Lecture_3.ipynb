{
 "cells": [
  {
   "cell_type": "markdown",
   "metadata": {},
   "source": [
    "# Inheritance in Python"
   ]
  },
  {
   "cell_type": "markdown",
   "metadata": {},
   "source": [
    "**Inheritance** is basically taking something from someone \n",
    "\n",
    "**Inheritance** allows us to define a class that inherits all the methods and properties from another class. \n",
    "\n",
    "Parent class is the class being inherited from, also called base class.\n",
    "\n",
    "Child class is the class that inherits from another class, also called derived class."
   ]
  },
  {
   "cell_type": "code",
   "execution_count": 30,
   "metadata": {},
   "outputs": [],
   "source": [
    "class Students:\n",
    "    def __init__(self,name, contact, age, roll_no, branch):# we have created the init function to define the arrtibutes\n",
    "        self.name = name\n",
    "        self.contact = contact\n",
    "        self.age = age\n",
    "        self.roll_no = roll_no\n",
    "        self.branch = branch\n",
    "        \n",
    "    def take_student_details(self):\n",
    "        self.name = input('Enter your name :-')\n",
    "        self.contact = input('Enter your contact number :- ')\n",
    "        self.age = input('Enter your Age :- ')\n",
    "        self.roll_no = input('Enter your Roll Number :- ')\n",
    "        self.branch = input('Enter your Branch Name :- ')\n",
    "        \n",
    "    def print_student_details(self):\n",
    "        print('The name of student is '+ self.name + '\\n' + 'The contact Number is ' + self.contact +'\\n' + 'with Age '+ self.age + '\\n' + 'has Roll Number ' + self.roll_no + '\\n' + 'Branch is  ' + self.branch)"
   ]
  },
  {
   "cell_type": "code",
   "execution_count": null,
   "metadata": {},
   "outputs": [],
   "source": []
  },
  {
   "cell_type": "code",
   "execution_count": 33,
   "metadata": {},
   "outputs": [],
   "source": [
    "class Engineering_Student(Students):\n",
    "    def __init__(self,admission_no):\n",
    "        self.admission_no = admission_no\n",
    "        \n",
    "    def Engineering_Student_1(self):\n",
    "        print(\"Hey, I am an Engineering Student\")"
   ]
  },
  {
   "cell_type": "code",
   "execution_count": 34,
   "metadata": {},
   "outputs": [],
   "source": [
    "Sample_object = Engineering_Student(1)"
   ]
  },
  {
   "cell_type": "code",
   "execution_count": 35,
   "metadata": {},
   "outputs": [
    {
     "name": "stdout",
     "output_type": "stream",
     "text": [
      "Hey, I am an Engineering Student\n"
     ]
    }
   ],
   "source": [
    "Sample_object.Engineering_Student_1()"
   ]
  },
  {
   "cell_type": "code",
   "execution_count": 36,
   "metadata": {},
   "outputs": [
    {
     "name": "stdout",
     "output_type": "stream",
     "text": [
      "Enter your name :-Saurabh\n",
      "Enter your contact number :- 123\n",
      "Enter your Age :- 12\n",
      "Enter your Roll Number :- 2\n",
      "Enter your Branch Name :- IT\n"
     ]
    }
   ],
   "source": [
    "Sample_object.take_student_details()"
   ]
  },
  {
   "cell_type": "code",
   "execution_count": 37,
   "metadata": {},
   "outputs": [
    {
     "name": "stdout",
     "output_type": "stream",
     "text": [
      "The name of student is Saurabh\n",
      "The contact Number is 123\n",
      "with Age 12\n",
      "has Roll Number 2\n",
      "Branch is  IT\n"
     ]
    }
   ],
   "source": [
    "Sample_object.print_student_details()"
   ]
  },
  {
   "cell_type": "code",
   "execution_count": null,
   "metadata": {},
   "outputs": [],
   "source": []
  }
 ],
 "metadata": {
  "kernelspec": {
   "display_name": "Python 3",
   "language": "python",
   "name": "python3"
  },
  "language_info": {
   "codemirror_mode": {
    "name": "ipython",
    "version": 3
   },
   "file_extension": ".py",
   "mimetype": "text/x-python",
   "name": "python",
   "nbconvert_exporter": "python",
   "pygments_lexer": "ipython3",
   "version": "3.8.3"
  }
 },
 "nbformat": 4,
 "nbformat_minor": 4
}
